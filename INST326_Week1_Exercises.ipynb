{
  "nbformat": 4,
  "nbformat_minor": 0,
  "metadata": {
    "colab": {
      "provenance": [],
      "authorship_tag": "ABX9TyNTAE5y6BY/ITckpeggVOms",
      "include_colab_link": true
    },
    "kernelspec": {
      "name": "python3",
      "display_name": "Python 3"
    },
    "language_info": {
      "name": "python"
    }
  },
  "cells": [
    {
      "cell_type": "markdown",
      "metadata": {
        "id": "view-in-github",
        "colab_type": "text"
      },
      "source": [
        "<a href=\"https://colab.research.google.com/github/Ywodaje/Tag-INST-326/blob/main/INST326_Week1_Exercises.ipynb\" target=\"_parent\"><img src=\"https://colab.research.google.com/assets/colab-badge.svg\" alt=\"Open In Colab\"/></a>"
      ]
    },
    {
      "cell_type": "markdown",
      "source": [
        "# INST326 — Week 1 Exercises (Revised): Library Management Theme  \n",
        "*Generated on 2025-09-07*\n",
        "\n",
        "This revision **removes all conditionals and all lists** to align strictly with Week 1 topics.\n",
        "\n",
        "**Included topics**\n",
        "- Variables and basic data types (`str`, `int`, `float`, `bool`)\n",
        "- Basic arithmetic and expressions\n",
        "- `print()` and formatted strings (f-strings, `.format`)\n",
        "- `input()` for user input\n",
        "- String methods: `.strip()`, `.lower()`, `.upper()`, `.replace()`, `.find()`, `.rfind()`, slicing\n",
        "- Type conversion with `int()`, `float()`, `str()`\n",
        "- Boolean expressions (compute and print `True/False`) **without branching**\n",
        "\n",
        "**Excluded topics**\n",
        "- Conditionals (`if`, `elif`, `else`), ternary expressions\n",
        "- Lists (and methods like `.split()` which returns a list)\n",
        "- Loops, dictionaries, files, functions, modules, classes\n",
        "\n",
        "Each exercise includes a short description and a starter cell. Replace the `# Your code here` section with your work."
      ],
      "metadata": {
        "id": "O0DDUXeqm6Al"
      }
    },
    {
      "cell_type": "markdown",
      "source": [
        "## Exercise 1: Book Identity Card"
      ],
      "metadata": {
        "id": "hc721vBoBHhC"
      }
    },
    {
      "cell_type": "markdown",
      "source": [
        "Create variables `title` (str), `author` (str), `year_published` (int), and `isbn` (str).  \n",
        "Print: `\"The Hobbit (1937) by J.R.R. Tolkien — ISBN: 9780261103344\"` using an f-string."
      ],
      "metadata": {
        "id": "LiysC1QpCMeV"
      }
    },
    {
      "cell_type": "code",
      "execution_count": 11,
      "metadata": {
        "colab": {
          "base_uri": "https://localhost:8080/"
        },
        "id": "Y53OFl1b0qTL",
        "outputId": "4026bdef-e6e9-44be-a0e8-b04e1a583bc2"
      },
      "outputs": [
        {
          "output_type": "stream",
          "name": "stdout",
          "text": [
            "The Hobbit (1937) by J.R.R. Tolkien — ISBN: 9780261103344\n"
          ]
        }
      ],
      "source": [
        "title = \"The Hobbit\"\n",
        "author = \"J.R.R. Tolkien\"\n",
        "year_published = 1937\n",
        "isbn = \"9780261103344\"\n",
        "print(f\"{title} ({year_published}) by {author} — ISBN: {isbn}\")"
      ]
    },
    {
      "cell_type": "markdown",
      "source": [
        "##Exercise 2: New Copies on Order\n"
      ],
      "metadata": {
        "id": "YJZ_5LxAo0s0"
      }
    },
    {
      "cell_type": "markdown",
      "source": [
        "Given integers `current_copies` and `incoming_copies`, compute `total_copies` and print a message like `\"Total copies after delivery: 27\"`."
      ],
      "metadata": {
        "id": "9hvQ3CQ-CSm9"
      }
    },
    {
      "cell_type": "code",
      "source": [
        "current_copies = 11\n",
        "incoming_copies = 16\n",
        "total_copies = current_copies + incoming_copies\n",
        "print(f\"Total copies after delivery: {total_copies}\")"
      ],
      "metadata": {
        "colab": {
          "base_uri": "https://localhost:8080/"
        },
        "id": "WDztLXr8poB8",
        "outputId": "beb40af4-d49b-43a5-b873-ebb3e2c42928"
      },
      "execution_count": 42,
      "outputs": [
        {
          "output_type": "stream",
          "name": "stdout",
          "text": [
            "Total copies after delivery: 27\n"
          ]
        }
      ]
    },
    {
      "cell_type": "markdown",
      "source": [
        "## Exercise 3: Availability Flag (No Branching)\n",
        "\n"
      ],
      "metadata": {
        "id": "qgY35JrPquxP"
      }
    },
    {
      "cell_type": "markdown",
      "source": [
        "Create `is_available` that is `True` when `current_copies > 0`. Print the boolean value."
      ],
      "metadata": {
        "id": "SLrFUZfDCYNi"
      }
    },
    {
      "cell_type": "code",
      "source": [
        "current_copies = 7\n",
        "is_available = current_copies > 0\n",
        "print(is_available)"
      ],
      "metadata": {
        "colab": {
          "base_uri": "https://localhost:8080/"
        },
        "id": "HG2rStSGq1il",
        "outputId": "ac397488-7caf-4088-ba3f-eb5fcd304761"
      },
      "execution_count": 43,
      "outputs": [
        {
          "output_type": "stream",
          "name": "stdout",
          "text": [
            "True\n"
          ]
        }
      ]
    },
    {
      "cell_type": "markdown",
      "source": [
        "## Exercise 4: Formatting a Call Number"
      ],
      "metadata": {
        "id": "5DIH5ob1q63c"
      }
    },
    {
      "cell_type": "markdown",
      "source": [
        "Given `prefix = \"QA\"`, `section = \"76\"`, `cutter = \"P98\"`, combine into `\"QA.76.P98\"` and print the result."
      ],
      "metadata": {
        "id": "W9_wxjNzCc4g"
      }
    },
    {
      "cell_type": "code",
      "source": [
        "prefix = \"QA\"\n",
        "section = \"76\"\n",
        "cutter = \"P98\"\n",
        "call_number = f\"{prefix}.{section}.{cutter}\"\n",
        "print(call_number)"
      ],
      "metadata": {
        "colab": {
          "base_uri": "https://localhost:8080/"
        },
        "id": "gMP5X3cgq9eI",
        "outputId": "e2ffde57-d87e-4139-e5b0-158def419c2a"
      },
      "execution_count": 14,
      "outputs": [
        {
          "output_type": "stream",
          "name": "stdout",
          "text": [
            "QA.76.P98\n"
          ]
        }
      ]
    },
    {
      "cell_type": "markdown",
      "source": [
        "## Exercise 5: Trim a Title"
      ],
      "metadata": {
        "id": "BNOGk6rwrBLq"
      }
    },
    {
      "cell_type": "markdown",
      "source": [
        "Ask for a book title. Use `.strip()` to remove leading/trailing spaces and print the cleaned title in quotes."
      ],
      "metadata": {
        "id": "r4tpa3fBCheg"
      }
    },
    {
      "cell_type": "code",
      "source": [
        "title_input = input(\"Enter a book title: \")\n",
        "cleaned_title = title_input.strip()\n",
        "print(f'\"{cleaned_title}\"')"
      ],
      "metadata": {
        "colab": {
          "base_uri": "https://localhost:8080/"
        },
        "id": "vseQ2ClfrEAo",
        "outputId": "3060b5a5-5828-40c8-d363-67a5b1e49da8"
      },
      "execution_count": 44,
      "outputs": [
        {
          "output_type": "stream",
          "name": "stdout",
          "text": [
            "Enter a book title: Atomic Habit\n",
            "\"Atomic Habit\"\n"
          ]
        }
      ]
    },
    {
      "cell_type": "markdown",
      "source": [
        "## Exercise 6: Late Fee (Arithmetic Only)"
      ],
      "metadata": {
        "id": "-j8D9RrnrHds"
      }
    },
    {
      "cell_type": "markdown",
      "source": [
        "Ask for days late (integer). Compute the fee at `$0.25` per day, **but never negative**. Use arithmetic (e.g., `max_days = (days + abs(days)) // 2`) or `max()` to ensure non‑negative days. Print `\"Late fee: $X.XX\"`."
      ],
      "metadata": {
        "id": "bUowmYF3ClI4"
      }
    },
    {
      "cell_type": "code",
      "source": [
        "days = int(input(\"Days late: \"))\n",
        "non_negative_days = max(days, 0)\n",
        "fee = non_negative_days * 0.25\n",
        "print(f\"Late fee: ${fee:.2f}\")"
      ],
      "metadata": {
        "colab": {
          "base_uri": "https://localhost:8080/"
        },
        "id": "dtiQsQoTrPDZ",
        "outputId": "ea93be09-53c1-4889-b043-e1a8e513954c"
      },
      "execution_count": 47,
      "outputs": [
        {
          "output_type": "stream",
          "name": "stdout",
          "text": [
            "Days late: 8\n",
            "Late fee: $2.00\n"
          ]
        }
      ]
    },
    {
      "cell_type": "markdown",
      "source": [
        "## Exercise 7: Title Length Counter"
      ],
      "metadata": {
        "id": "hISJGgxcrT7a"
      }
    },
    {
      "cell_type": "markdown",
      "source": [
        "Given a `title` string, compute the number of characters and print `\"Title length: N\"`."
      ],
      "metadata": {
        "id": "VlFARHYWCph1"
      }
    },
    {
      "cell_type": "code",
      "source": [
        "title = \"Computer\"\n",
        "length = len(title)\n",
        "print(f\"Title length: {length}\")"
      ],
      "metadata": {
        "colab": {
          "base_uri": "https://localhost:8080/"
        },
        "id": "FjgtrourrYcd",
        "outputId": "ae2cfa6f-ec9e-4594-c7c0-a43783d0499e"
      },
      "execution_count": 50,
      "outputs": [
        {
          "output_type": "stream",
          "name": "stdout",
          "text": [
            "Title length: 8\n"
          ]
        }
      ]
    },
    {
      "cell_type": "markdown",
      "source": [
        "## Exercise 8: Case-Insensitive Match (Boolean Only)"
      ],
      "metadata": {
        "id": "aatioHY2rbEH"
      }
    },
    {
      "cell_type": "markdown",
      "source": [
        "Let `query = \"dune\"` and `title = \"Dune\"`. Compute a boolean `matches` that is `True` when they match ignoring case. Print `matches`."
      ],
      "metadata": {
        "id": "f0vGA7_5Ct40"
      }
    },
    {
      "cell_type": "code",
      "source": [
        "query = \"dune\"\n",
        "title = \"Dune\"\n",
        "matches = query.lower() == title.lower()\n",
        "print(matches)"
      ],
      "metadata": {
        "colab": {
          "base_uri": "https://localhost:8080/"
        },
        "id": "FU9zGm0Lvmo2",
        "outputId": "bb038e29-ee90-4f18-ed35-8ba91547ae49"
      },
      "execution_count": 18,
      "outputs": [
        {
          "output_type": "stream",
          "name": "stdout",
          "text": [
            "True\n"
          ]
        }
      ]
    },
    {
      "cell_type": "markdown",
      "source": [
        "## Exercise 9: Year Text to Int"
      ],
      "metadata": {
        "id": "MFmFfEtrvuVf"
      }
    },
    {
      "cell_type": "markdown",
      "source": [
        "Start with `year_text = \"2001\"`. Convert to int, add 1 to get the next reprint year, then print both values in one sentence."
      ],
      "metadata": {
        "id": "oGeIlL08Cxop"
      }
    },
    {
      "cell_type": "code",
      "source": [
        "year_text = \"2001\"\n",
        "year_num = int(year_text)\n",
        "next_reprint = year_num + 1\n",
        "print(f\"Original: {year_text}  Next reprint: {next_reprint}\")"
      ],
      "metadata": {
        "colab": {
          "base_uri": "https://localhost:8080/"
        },
        "id": "YyaAjSkYvt_m",
        "outputId": "c8aeb5b8-e992-4b13-8d6c-50d235c879a8"
      },
      "execution_count": 20,
      "outputs": [
        {
          "output_type": "stream",
          "name": "stdout",
          "text": [
            "Original: 2001  Next reprint: 2002\n"
          ]
        }
      ]
    },
    {
      "cell_type": "markdown",
      "source": [
        "## Exercise 10: Shelf Label Alignment"
      ],
      "metadata": {
        "id": "i-8dSaXiv3Cy"
      }
    },
    {
      "cell_type": "markdown",
      "source": [
        "Given `title` and `author`, print a fixed‑width label so titles align. Example: `Title: {title:30}  Author: {author:20}`."
      ],
      "metadata": {
        "id": "uuDcAlErC1Bz"
      }
    },
    {
      "cell_type": "code",
      "source": [
        "title = \"The Silent Patient\"\n",
        "author = \"Alex Michaelides\"\n",
        "print(f\"Title: {title:30}  Author: {author:20}\")"
      ],
      "metadata": {
        "colab": {
          "base_uri": "https://localhost:8080/"
        },
        "id": "uSyVJl9Mv2wx",
        "outputId": "ea6220ac-a66a-4d10-ad05-b01d7cd79f7b"
      },
      "execution_count": 51,
      "outputs": [
        {
          "output_type": "stream",
          "name": "stdout",
          "text": [
            "Title: The Silent Patient              Author: Alex Michaelides    \n"
          ]
        }
      ]
    },
    {
      "cell_type": "markdown",
      "source": [
        "## Exercise 11: Basic Price Math"
      ],
      "metadata": {
        "id": "VRCFgX-Tv8Ii"
      }
    },
    {
      "cell_type": "markdown",
      "source": [
        "A book costs `$12.50`. A student discount of `$2.00` applies. Compute and print the final price with two decimals."
      ],
      "metadata": {
        "id": "4Miq09M4C3ov"
      }
    },
    {
      "cell_type": "code",
      "source": [
        "price = 12.50\n",
        "discount = 2.00\n",
        "final = price - discount\n",
        "print(f\"${final:.2f}\")"
      ],
      "metadata": {
        "colab": {
          "base_uri": "https://localhost:8080/"
        },
        "id": "67BEeXTov79F",
        "outputId": "707cdfd8-4097-4816-d6ee-02006d50b7bc"
      },
      "execution_count": 21,
      "outputs": [
        {
          "output_type": "stream",
          "name": "stdout",
          "text": [
            "$10.50\n"
          ]
        }
      ]
    },
    {
      "cell_type": "markdown",
      "source": [
        "## Exercise 12: ISBN Normalizer"
      ],
      "metadata": {
        "id": "ZaXPB_x6wDX0"
      }
    },
    {
      "cell_type": "markdown",
      "source": [
        "Given `isbn_raw = \" 978-0-261-10334-4 \"`, strip whitespace and remove dashes to get `\"9780261103344\"`."
      ],
      "metadata": {
        "id": "ZQStLEheC6U5"
      }
    },
    {
      "cell_type": "code",
      "source": [
        "isbn_raw = \" 978-0-261-10334-4 \"\n",
        "isbn_clean = isbn_raw.strip().replace(\"-\", \"\")\n",
        "print(isbn_clean)"
      ],
      "metadata": {
        "colab": {
          "base_uri": "https://localhost:8080/"
        },
        "id": "kac_McgRwDNr",
        "outputId": "a83e9bbe-dc22-40dc-c956-7074e524e537"
      },
      "execution_count": 22,
      "outputs": [
        {
          "output_type": "stream",
          "name": "stdout",
          "text": [
            "9780261103344\n"
          ]
        }
      ]
    },
    {
      "cell_type": "markdown",
      "source": [
        "## Exercise 13: Branch Code Normalization"
      ],
      "metadata": {
        "id": "VQxpVIr5wJUB"
      }
    },
    {
      "cell_type": "markdown",
      "source": [
        "Given `home_branch = \"  umd  \"`, normalize by stripping spaces and uppercasing. Print the normalized code."
      ],
      "metadata": {
        "id": "n2NOtD48C9aC"
      }
    },
    {
      "cell_type": "code",
      "source": [
        "home_branch = \" umd \"\n",
        "normalized = home_branch.strip().upper()\n",
        "print(normalized)"
      ],
      "metadata": {
        "colab": {
          "base_uri": "https://localhost:8080/"
        },
        "id": "FyKmDPpOwJJo",
        "outputId": "fbe4ef0f-b6d6-4c84-dc54-f3d8d58cbdbc"
      },
      "execution_count": 53,
      "outputs": [
        {
          "output_type": "stream",
          "name": "stdout",
          "text": [
            "UMD\n"
          ]
        }
      ]
    },
    {
      "cell_type": "markdown",
      "source": [
        "## Exercise 14: Pages-per-Day (Compute Only)"
      ],
      "metadata": {
        "id": "XkJ9MaYgwOnV"
      }
    },
    {
      "cell_type": "markdown",
      "source": [
        "Ask for `total_pages` and `days_until_due`. Compute `pages_per_day = total_pages / max(days_until_due, 1)` to avoid division by zero. Print with 1 decimal place."
      ],
      "metadata": {
        "id": "hUin9kziDAqm"
      }
    },
    {
      "cell_type": "code",
      "source": [
        "total_pages = int(input(\"Total pages: \"))\n",
        "days_until_due = int(input(\"Days until due: \"))\n",
        "pages_per_day = total_pages / max(days_until_due, 1)\n",
        "print(f\"{pages_per_day:.1f}\")"
      ],
      "metadata": {
        "colab": {
          "base_uri": "https://localhost:8080/"
        },
        "id": "yqyAAHztwOdu",
        "outputId": "a16f192e-e98d-4880-98bb-59ae1587a69a"
      },
      "execution_count": 55,
      "outputs": [
        {
          "output_type": "stream",
          "name": "stdout",
          "text": [
            "Total pages: 120\n",
            "Days until due: 6\n",
            "20.0\n"
          ]
        }
      ]
    },
    {
      "cell_type": "markdown",
      "source": [
        "## Exercise 15: Call Number Parsing (No Lists)"
      ],
      "metadata": {
        "id": "K2XG7O3SwVNQ"
      }
    },
    {
      "cell_type": "markdown",
      "source": [
        "Given `call_no = \"QA.76.P98\"`, extract `prefix`, `section`, and `cutter` using `.find()`/`.rfind()` and string slicing only (no `.split()`). Print them in one line."
      ],
      "metadata": {
        "id": "E6_HAcZ3DEQj"
      }
    },
    {
      "cell_type": "code",
      "source": [
        "call_no = \"QA.76.P98\"\n",
        "first_dot = call_no.find(\".\")\n",
        "last_dot = call_no.rfind(\".\")\n",
        "prefix = call_no[:first_dot]\n",
        "section = call_no[first_dot+1:last_dot]\n",
        "cutter = call_no[last_dot+1:]\n",
        "print(f\"{prefix} {section} {cutter}\")"
      ],
      "metadata": {
        "colab": {
          "base_uri": "https://localhost:8080/"
        },
        "id": "iUdLN_3IwcO9",
        "outputId": "7e51404c-f33b-43e8-a076-8aa43521ef0e"
      },
      "execution_count": 25,
      "outputs": [
        {
          "output_type": "stream",
          "name": "stdout",
          "text": [
            "QA 76 P98\n"
          ]
        }
      ]
    },
    {
      "cell_type": "markdown",
      "source": [
        "## Exercise 16: Basic Type Introspection"
      ],
      "metadata": {
        "id": "fpsF5s3Kwi02"
      }
    },
    {
      "cell_type": "markdown",
      "source": [
        "Create variables `n = 10`, `price = 9.99`, `title = \"Dune\"`, `available = True`. Print each value and its type using `type()`."
      ],
      "metadata": {
        "id": "IFSdWePyDHas"
      }
    },
    {
      "cell_type": "code",
      "source": [
        "n = 10\n",
        "price = 9.99\n",
        "title = \"Dune\"\n",
        "available = True\n",
        "print(n, type(n))\n",
        "print(price, type(price))\n",
        "print(title, type(title))\n",
        "print(available, type(available))"
      ],
      "metadata": {
        "colab": {
          "base_uri": "https://localhost:8080/"
        },
        "id": "0QkUwvVvwipZ",
        "outputId": "88acf724-f140-4468-cec2-4b8c0c45d60a"
      },
      "execution_count": 56,
      "outputs": [
        {
          "output_type": "stream",
          "name": "stdout",
          "text": [
            "10 <class 'int'>\n",
            "9.99 <class 'float'>\n",
            "Dune <class 'str'>\n",
            "True <class 'bool'>\n"
          ]
        }
      ]
    },
    {
      "cell_type": "markdown",
      "source": [
        "## Exercise 17: Concatenate Author Name"
      ],
      "metadata": {
        "id": "TTaT_KPRwnW-"
      }
    },
    {
      "cell_type": "markdown",
      "source": [
        "Given `first = \"Octavia\"` and `last = \"Butler\"`, create `author_full = \"Octavia Butler\"` and print it."
      ],
      "metadata": {
        "id": "FDh2ii_PDKgE"
      }
    },
    {
      "cell_type": "code",
      "source": [
        "first = \"Octavia\"\n",
        "last = \"Butler\"\n",
        "author_full = first + \" \" + last\n",
        "print(author_full)"
      ],
      "metadata": {
        "colab": {
          "base_uri": "https://localhost:8080/"
        },
        "id": "767hG_J7wnNk",
        "outputId": "51585cfd-bbc0-4d1e-caca-28c5ceb0ee93"
      },
      "execution_count": 27,
      "outputs": [
        {
          "output_type": "stream",
          "name": "stdout",
          "text": [
            "Octavia Butler\n"
          ]
        }
      ]
    },
    {
      "cell_type": "markdown",
      "source": [
        "## Exercise 18: Edition Equality (Boolean Only)"
      ],
      "metadata": {
        "id": "5VbQL-1zwt9G"
      }
    },
    {
      "cell_type": "markdown",
      "source": [
        "Let `edition_text = \"2\"` and `edition_num = 2`. Compute `same = int(edition_text) == edition_num` and print `same`."
      ],
      "metadata": {
        "id": "Ihs_7FJzDNuz"
      }
    },
    {
      "cell_type": "code",
      "source": [
        "edition_text = \"2\"\n",
        "edition_num = 2\n",
        "same = int(edition_text) == edition_num\n",
        "print(same)"
      ],
      "metadata": {
        "colab": {
          "base_uri": "https://localhost:8080/"
        },
        "id": "L9876aSMwt0C",
        "outputId": "0d84f833-5e0c-447e-9e5d-ca9e905496e9"
      },
      "execution_count": 28,
      "outputs": [
        {
          "output_type": "stream",
          "name": "stdout",
          "text": [
            "True\n"
          ]
        }
      ]
    },
    {
      "cell_type": "markdown",
      "source": [
        "## Exercise 19: Copy Count Update (Arithmetic)"
      ],
      "metadata": {
        "id": "fRKtxQR6wy6S"
      }
    },
    {
      "cell_type": "markdown",
      "source": [
        "Start with `copies = 3`. Add a returned copy (`+1`) and subtract a lost copy (`-1`). Print the final count (you may change the increments)."
      ],
      "metadata": {
        "id": "NfA2j2CODQif"
      }
    },
    {
      "cell_type": "code",
      "source": [
        "copies = 3\n",
        "copies = copies + 1   # returned\n",
        "copies = copies - 1   # lost\n",
        "print(copies)"
      ],
      "metadata": {
        "colab": {
          "base_uri": "https://localhost:8080/"
        },
        "id": "REPEJ7kjw0CA",
        "outputId": "c9a1f852-649a-4ba1-c356-be9361bf86d2"
      },
      "execution_count": 29,
      "outputs": [
        {
          "output_type": "stream",
          "name": "stdout",
          "text": [
            "3\n"
          ]
        }
      ]
    },
    {
      "cell_type": "markdown",
      "source": [
        "## Exercise 20: Modern Publication (Boolean Only)"
      ],
      "metadata": {
        "id": "tqpmJk1xw6Cz"
      }
    },
    {
      "cell_type": "markdown",
      "source": [
        "Ask for a publication year and compute a boolean `modern = (year >= 2000)`. Print `modern`."
      ],
      "metadata": {
        "id": "IcKZWLD2DU1f"
      }
    },
    {
      "cell_type": "code",
      "source": [
        "year = int(input(\"Publication year: \"))\n",
        "modern = (year >= 2000)\n",
        "print(modern)"
      ],
      "metadata": {
        "colab": {
          "base_uri": "https://localhost:8080/"
        },
        "id": "_uA57GKdw557",
        "outputId": "5ef911dd-de62-47a5-b91b-2d813a31dd35"
      },
      "execution_count": 59,
      "outputs": [
        {
          "output_type": "stream",
          "name": "stdout",
          "text": [
            "Publication year: 2000\n",
            "True\n"
          ]
        }
      ]
    },
    {
      "cell_type": "markdown",
      "source": [
        "## Exercise 21: Hold Ready (Boolean Only)"
      ],
      "metadata": {
        "id": "PFaz8uUAxAgD"
      }
    },
    {
      "cell_type": "markdown",
      "source": [
        "Given `hold_ready = True`, print the boolean and a simple message on a single line without branching, e.g., `True — status recorded`."
      ],
      "metadata": {
        "id": "_j7JSjeIDYe0"
      }
    },
    {
      "cell_type": "code",
      "source": [
        "hold_ready = True\n",
        "print(f\"{hold_ready} — status recorded\")"
      ],
      "metadata": {
        "colab": {
          "base_uri": "https://localhost:8080/"
        },
        "id": "JkZrk1S4xAW-",
        "outputId": "98f732ac-e8d3-468b-e40d-4937899da6b7"
      },
      "execution_count": 31,
      "outputs": [
        {
          "output_type": "stream",
          "name": "stdout",
          "text": [
            "True — status recorded\n"
          ]
        }
      ]
    },
    {
      "cell_type": "markdown",
      "source": [
        "## Exercise 22: Replace Substring in Title"
      ],
      "metadata": {
        "id": "m_c0-cL2xD5A"
      }
    },
    {
      "cell_type": "markdown",
      "source": [
        "Let `title = \"The Color of Magic\"`. Replace `\"Color\"` with `\"Colour\"` and print the result."
      ],
      "metadata": {
        "id": "ZX4CmGhsDc1O"
      }
    },
    {
      "cell_type": "code",
      "source": [
        "title = \"The Color of Magic\"\n",
        "updated = title.replace(\"Color\", \"Colour\")\n",
        "print(updated)"
      ],
      "metadata": {
        "colab": {
          "base_uri": "https://localhost:8080/"
        },
        "id": "TvrVd9yYxDwZ",
        "outputId": "a7cab63a-7e4e-4179-d7c4-550a3262ddeb"
      },
      "execution_count": 32,
      "outputs": [
        {
          "output_type": "stream",
          "name": "stdout",
          "text": [
            "The Colour of Magic\n"
          ]
        }
      ]
    },
    {
      "cell_type": "markdown",
      "source": [
        "## Exercise 23: Keyword Present (Boolean Only)"
      ],
      "metadata": {
        "id": "KFzqY7urxMxO"
      }
    },
    {
      "cell_type": "markdown",
      "source": [
        "Given `title = \"The Left Hand of Darkness\"` and `keyword = \"Hand\"`, compute `present = title.find(keyword) != -1` and print `present`."
      ],
      "metadata": {
        "id": "2mwGoiV3Dgh6"
      }
    },
    {
      "cell_type": "code",
      "source": [
        "title = \"The Left Hand of Darkness\"\n",
        "keyword = \"Hand\"\n",
        "present = title.find(keyword) != -1\n",
        "print(present)"
      ],
      "metadata": {
        "colab": {
          "base_uri": "https://localhost:8080/"
        },
        "id": "rvgfHfxBxMio",
        "outputId": "4f5ef408-621d-4300-bdbe-ff8218e64d91"
      },
      "execution_count": 33,
      "outputs": [
        {
          "output_type": "stream",
          "name": "stdout",
          "text": [
            "True\n"
          ]
        }
      ]
    },
    {
      "cell_type": "markdown",
      "source": [
        "## Exercise 24: Extract Cutter by Position (No Lists)"
      ],
      "metadata": {
        "id": "YqdkLAJvxSO-"
      }
    },
    {
      "cell_type": "markdown",
      "source": [
        "With `call_no = \"QA.76.P98\"`, find the last `'.'` index and slice the cutter part. Print only the cutter."
      ],
      "metadata": {
        "id": "5g1vX09FDpwy"
      }
    },
    {
      "cell_type": "code",
      "source": [
        "call_no = \"QA.76.P98\"\n",
        "last_dot = call_no.rfind(\".\")\n",
        "cutter = call_no[last_dot+1:]\n",
        "print(cutter)"
      ],
      "metadata": {
        "colab": {
          "base_uri": "https://localhost:8080/"
        },
        "id": "E7_Sr_UgxSFl",
        "outputId": "5d16c6e8-3a69-4751-9453-5fc8e91c5c45"
      },
      "execution_count": 34,
      "outputs": [
        {
          "output_type": "stream",
          "name": "stdout",
          "text": [
            "P98\n"
          ]
        }
      ]
    },
    {
      "cell_type": "markdown",
      "source": [
        "## Exercise 25: Rating Validity (Boolean Only)"
      ],
      "metadata": {
        "id": "70Q0_bm9xdBU"
      }
    },
    {
      "cell_type": "markdown",
      "source": [
        "Ask for a rating `0–5`. Compute `valid = (rating >= 0) and (rating <= 5)` and print `valid`."
      ],
      "metadata": {
        "id": "baYYp5QTDsnW"
      }
    },
    {
      "cell_type": "code",
      "source": [
        "rating = float(input(\"Rating 0–5: \"))\n",
        "valid = (rating >= 0) and (rating <= 5)\n",
        "print(valid)"
      ],
      "metadata": {
        "colab": {
          "base_uri": "https://localhost:8080/"
        },
        "id": "mLszCN_IxeEh",
        "outputId": "963fa9a5-74b5-4bc0-f4d0-fb394f91aed2"
      },
      "execution_count": 60,
      "outputs": [
        {
          "output_type": "stream",
          "name": "stdout",
          "text": [
            "Rating 0–5: 3\n",
            "True\n"
          ]
        }
      ]
    },
    {
      "cell_type": "markdown",
      "source": [
        "## Exercise 26: Tiny Catalog Line"
      ],
      "metadata": {
        "id": "x1180d_Wxmtp"
      }
    },
    {
      "cell_type": "markdown",
      "source": [
        "Create `title`, `author`, and `year`. Print `\"Title — Author (Year)\"` exactly in that format using an f-string."
      ],
      "metadata": {
        "id": "0KFALhZXDvpn"
      }
    },
    {
      "cell_type": "code",
      "source": [
        "title = \"Then She Was Gone\"\n",
        "author = \"Lisa Jewell\"\n",
        "year = 2018\n",
        "print(f\"{title} — {author} ({year})\")"
      ],
      "metadata": {
        "colab": {
          "base_uri": "https://localhost:8080/"
        },
        "id": "v_CN2sd9xmjQ",
        "outputId": "8e5a508d-ef88-4da6-d2b8-ac657a47c3c7"
      },
      "execution_count": 61,
      "outputs": [
        {
          "output_type": "stream",
          "name": "stdout",
          "text": [
            "Then She Was Gone — Lisa Jewell (2018)\n"
          ]
        }
      ]
    },
    {
      "cell_type": "markdown",
      "source": [
        "## Exercise 27: Average Rating (Rounded)"
      ],
      "metadata": {
        "id": "h2hkYeRHxpxe"
      }
    },
    {
      "cell_type": "markdown",
      "source": [
        "Given `avg_rating = 4.2667`, print it rounded to two decimals using an f-string format specifier."
      ],
      "metadata": {
        "id": "CwqoIFdcD0VG"
      }
    },
    {
      "cell_type": "code",
      "source": [
        "avg_rating = 4.2667\n",
        "print(f\"{avg_rating:.2f}\")"
      ],
      "metadata": {
        "colab": {
          "base_uri": "https://localhost:8080/"
        },
        "id": "lvYlbnp8xpoY",
        "outputId": "9b5eacc1-9305-4291-e097-4da58144add3"
      },
      "execution_count": 37,
      "outputs": [
        {
          "output_type": "stream",
          "name": "stdout",
          "text": [
            "4.27\n"
          ]
        }
      ]
    },
    {
      "cell_type": "markdown",
      "source": [
        "## Exercise 28: Query Normalization"
      ],
      "metadata": {
        "id": "HJjTAy_Rxv3k"
      }
    },
    {
      "cell_type": "markdown",
      "source": [
        "Ask for a search term via `input()` and normalize it by stripping spaces and lowercasing. Print the normalized query."
      ],
      "metadata": {
        "id": "DgdK5-FeD2FF"
      }
    },
    {
      "cell_type": "code",
      "source": [
        "query = input(\"Search term: \")\n",
        "normalized = query.strip().lower()\n",
        "print(normalized)"
      ],
      "metadata": {
        "colab": {
          "base_uri": "https://localhost:8080/"
        },
        "id": "M64oR_eTxvvB",
        "outputId": "c89bd8b2-723b-435c-c9b2-399de3477f96"
      },
      "execution_count": 62,
      "outputs": [
        {
          "output_type": "stream",
          "name": "stdout",
          "text": [
            "Search term: Frank\n",
            "frank\n"
          ]
        }
      ]
    },
    {
      "cell_type": "markdown",
      "source": [
        "## Exercise 29: Borrower Card Line"
      ],
      "metadata": {
        "id": "uJStB9zSx2Gv"
      }
    },
    {
      "cell_type": "markdown",
      "source": [
        "Given `name = \"Avery\"` and `id_num = 1024`, print: `\"Borrower: Avery (ID: 1024)\"`."
      ],
      "metadata": {
        "id": "lBcDhLUSD-Ie"
      }
    },
    {
      "cell_type": "code",
      "source": [
        "name = \"Avery\"\n",
        "id_num = 1024\n",
        "print(f\"Borrower: {name} (ID: {id_num})\")"
      ],
      "metadata": {
        "colab": {
          "base_uri": "https://localhost:8080/"
        },
        "id": "B84B_7LDx1eI",
        "outputId": "d0993aea-c78c-4d40-da1d-382c8690ee6d"
      },
      "execution_count": 39,
      "outputs": [
        {
          "output_type": "stream",
          "name": "stdout",
          "text": [
            "Borrower: Avery (ID: 1024)\n"
          ]
        }
      ]
    },
    {
      "cell_type": "markdown",
      "source": [
        "## Exercise 30: Stock State (No Branching)"
      ],
      "metadata": {
        "id": "eSC1nQaSyCZ7"
      }
    },
    {
      "cell_type": "markdown",
      "source": [
        "Let `copies = 1`. Compute booleans: `none = (copies == 0)`, `single = (copies == 1)`, `many = (copies > 1)`. Print all three in one line."
      ],
      "metadata": {
        "id": "iZyM3YbkEA5n"
      }
    },
    {
      "cell_type": "code",
      "source": [
        "copies = 1\n",
        "none_ = (copies == 0)\n",
        "single = (copies == 1)\n",
        "many = (copies > 1)\n",
        "print(none_, single, many)"
      ],
      "metadata": {
        "colab": {
          "base_uri": "https://localhost:8080/"
        },
        "id": "QzWpQs8HyCGc",
        "outputId": "a63e6ed5-57cc-446f-cc24-d1e6d7c70edf"
      },
      "execution_count": 40,
      "outputs": [
        {
          "output_type": "stream",
          "name": "stdout",
          "text": [
            "False True False\n"
          ]
        }
      ]
    }
  ]
}